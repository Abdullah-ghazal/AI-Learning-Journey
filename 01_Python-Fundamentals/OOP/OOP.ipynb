{
  "cells": [
    {
      "cell_type": "markdown",
      "metadata": {
        "id": "TnDzo42t9SFC"
      },
      "source": [
        "# 🐍 Object-Oriented Programming (OOP) in Python\n",
        "***Welcome to this comprehensive guide to OOP in Python***\n",
        "\n",
        "<details>\n",
        "<summary>📘 Table of Contents</summary>\n",
        "\n",
        "1. Introduction to OOP\n",
        "2. Core Concepts with Code Examples\n",
        "3. Inheritance\n",
        "4. Polymorphism\n",
        "5. Encapsulation\n",
        "6. Abstraction\n",
        "7. Composition and Aggregation\n",
        "8. Object LifeCycle and Memory\n",
        "9. Overview of some Key OOP Design Patterns  \n",
        "10. Summary of SOLID Principles in OOP\n",
        "\n",
        "</details>\n",
        "\n"
      ]
    },
    {
      "cell_type": "markdown",
      "metadata": {
        "id": "5GR-GGRN--LD"
      },
      "source": [
        "***\n",
        "## **1.Introduction to OOP**\n",
        "***\n",
        "  ***1.1 What is OOP?***\n",
        "  \n",
        "  ▶ OOP is a programming paradigm (coding style) that organizes code around objects and classes rather than functions and logic. It allows you to model real-world entities as objects with properties (attributes) and behaviors (methods).\n",
        "  \n",
        "  ---------\n",
        "\n",
        "  ***1.2 Why Use OOP?***\n",
        "\n",
        "  **1- Code Reusability:**  Write once, use many times\n",
        "\n",
        "  **2- Modularity:** Break complex problems into smaller, manageable pieces\n",
        "\n",
        "  **3- Maintainability:** Easier to update and modify code\n",
        "\n",
        "  **4- Scalability:** Better organization for large applications\n",
        "\n",
        "  **5- Real-world Modeling:** Natural way to represent real-world concepts\n",
        "  \n",
        "\n"
      ]
    },
    {
      "cell_type": "markdown",
      "metadata": {
        "id": "VJAUxv-_DvQX"
      },
      "source": [
        "***\n",
        "## **2.Core Concepts with Code Examples**\n",
        "***\n",
        "  ***2.1 Classes and Objects***\n",
        "\n",
        "  **A) Class:**\n",
        "\n",
        "  ▶ Is The Template For Creating Objects [Object Constructor | Blueprint]\n",
        "\n",
        "  (*note*: Class Name Written With PascalCase [UpperCamelCase] Style)\n",
        "\n",
        "  **B) Object:**\n",
        "\n",
        "  ▶ is an instance of a class and Have Their Methods and Attributes\n",
        "\n",
        "  (*Note*: ***Everything in Python is Object***)\n",
        "\n",
        "  **Example:**\n",
        "\n",
        " - **Class:**  (Person)\n",
        "\n",
        " ▶ A general blueprint for creating people objects.\n",
        "\n",
        " - **Object (Instance):** (Ahmed, Mona)\n",
        "\n",
        "  ▶ Specific individuals created from the Person class.\n",
        "\n",
        " - **Attributes (Data):**\n",
        "name -\n",
        "age -\n",
        "address -\n",
        "phone_number\n",
        "\n",
        " - **Methods (Behaviors / Functions):**\n",
        "   walk() - eat() - sing()\n",
        "______"
      ]
    },
    {
      "cell_type": "code",
      "execution_count": null,
      "metadata": {
        "colab": {
          "base_uri": "https://localhost:8080/"
        },
        "id": "TIy8XplyZg4o",
        "outputId": "b7edf3d0-37cc-4860-8173-31ab921da989"
      },
      "outputs": [
        {
          "name": "stdout",
          "output_type": "stream",
          "text": [
            "A person has been added\n",
            "<class '__main__.Person'>\n",
            "True\n"
          ]
        }
      ],
      "source": [
        "# Class definition\n",
        "class Person:\n",
        "  print(\"A person has been added\")\n",
        "\n",
        "\n",
        "# Create object from person class\n",
        "Ahmed = Person()\n",
        "\n",
        "# Type of this object\n",
        "print(type(Ahmed))\n",
        "# check if the Ahmed is an object of Person Class or not\n",
        "print(isinstance(Ahmed, Person))\n"
      ]
    },
    {
      "cell_type": "markdown",
      "metadata": {
        "id": "906a_0szbMu9"
      },
      "source": [
        "___\n",
        "***2.2 The `__init__` Method***\n",
        "\n",
        "- Is Called Every Time You Create Object From Class\n",
        "\n",
        "- Initialize The Data (attributes) For The Object\n",
        "\n",
        "(*Note*: Any Method like (_ _ Method _ _) Called Dunder or Magic Method)\n",
        "____\n"
      ]
    },
    {
      "cell_type": "code",
      "execution_count": null,
      "metadata": {
        "colab": {
          "base_uri": "https://localhost:8080/"
        },
        "id": "Vn9ylWo4cria",
        "outputId": "37b7b29a-9f5b-440e-bc97-a8f7e81c6bf1"
      },
      "outputs": [
        {
          "name": "stdout",
          "output_type": "stream",
          "text": [
            "A New Member Has Been Added\n",
            "<class '__main__.Member'>\n"
          ]
        }
      ],
      "source": [
        "class Member:\n",
        "\n",
        "  def __init__(self):\n",
        "\n",
        "    print(\"A New Member Has Been Added\")\n",
        "\n",
        "member_one = Member()\n",
        "\n",
        "\n",
        "print(member_one.__class__)"
      ]
    },
    {
      "cell_type": "markdown",
      "metadata": {
        "id": "Xr7C92cldfJD"
      },
      "source": [
        "___\n",
        "***2.3 The `self` Keyword***\n",
        "\n",
        "▶ refers to the current instance of the class. It's used to access instance variables and methods.\n",
        "___"
      ]
    },
    {
      "cell_type": "code",
      "execution_count": null,
      "metadata": {
        "colab": {
          "base_uri": "https://localhost:8080/"
        },
        "id": "GL-CLGUjekQU",
        "outputId": "d7d5cb45-0875-4942-de3a-793c9ee559ca"
      },
      "outputs": [
        {
          "name": "stdout",
          "output_type": "stream",
          "text": [
            "Abdullah\n",
            "22\n",
            "Hi, I'm Abdullah and I'm 22 years old!\n"
          ]
        }
      ],
      "source": [
        "class Person:\n",
        "  def __init__(self, my_name, my_age):\n",
        "    self.name = my_name  # self.name refers to this instance's name\n",
        "    self.age = my_age    # self.age refers to this instance's age\n",
        "\n",
        "\n",
        "  def introduce(self):\n",
        "    return f\"Hi, I'm {self.name} and I'm {self.age} years old!\"\n",
        "\n",
        "\n",
        "Abdullah = Person(\"Abdullah\", 22)\n",
        "print(Abdullah.name)\n",
        "print(Abdullah.age)\n",
        "print(Abdullah.introduce())\n"
      ]
    },
    {
      "cell_type": "markdown",
      "metadata": {
        "id": "OuyO0Xz_k5tX"
      },
      "source": [
        "---\n",
        "***2.4 The Instance Attributes and Methods***\n",
        "\n",
        "- **Instance Attributes:** Instance Attributes Defined Inside The Constructor\n",
        "- **Instance Methods:** Take Self Parameter Which Point To Instance Created From Class\n",
        "\n",
        "- Instance Methods can:-\n",
        "  - Can Freely Access Attributes And Methods On The Same Object\n",
        "  - Can Access The Class Itself\n",
        "---"
      ]
    },
    {
      "cell_type": "code",
      "execution_count": null,
      "metadata": {
        "colab": {
          "base_uri": "https://localhost:8080/"
        },
        "id": "h2vbufLd4IDZ",
        "outputId": "961f6413-049d-4756-95fe-5dd79c942997"
      },
      "outputs": [
        {
          "name": "stdout",
          "output_type": "stream",
          "text": [
            "Osama Mohamed Elsayed\n",
            "Ahmed\n",
            "Mona\n",
            "Ahmed Ali Mahmoud\n",
            "Hello Mr Ahmed\n",
            "Hello Mr Osama, Your Full Name Is: Osama Mohamed Elsayed\n"
          ]
        }
      ],
      "source": [
        "class Member:\n",
        "  def __init__(self, first_name, middle_name, last_name, gender):\n",
        "    # instance attributes\n",
        "    self.fname = first_name\n",
        "    self.mname = middle_name\n",
        "    self.lname = last_name\n",
        "    self.gender = gender\n",
        "\n",
        "  # instance methods\n",
        "  def full_name(self):\n",
        "    return f\"{self.fname} {self.mname} {self.lname}\"\n",
        "\n",
        "  def name_with_title(self):\n",
        "    if self.gender == \"Male\":\n",
        "      return f\"Hello Mr {self.fname}\"\n",
        "    elif self.gender == \"Female\":\n",
        "      return f\"Hello Miss {self.fname}\"\n",
        "    else:\n",
        "      return f\"Hello {self.fname}\"\n",
        "\n",
        "  def get_all_info(self):\n",
        "    return f\"{self.name_with_title()}, Your Full Name Is: {self.full_name()}\"\n",
        "\n",
        "\n",
        "member_one = Member(\"Osama\", \"Mohamed\", \"Elsayed\", \"Male\")\n",
        "member_two = Member(\"Ahmed\", \"Ali\", \"Mahmoud\", \"Male\")\n",
        "member_three = Member(\"Mona\", \"Ali\", \"Mahmoud\", \"Female\")\n",
        "\n",
        "print(member_one.fname, member_one.mname, member_one.lname)\n",
        "print(member_two.fname)\n",
        "print(member_three.fname)\n",
        "\n",
        "print(member_two.full_name())\n",
        "print(member_two.name_with_title())\n",
        "\n",
        "print(member_one.get_all_info())"
      ]
    },
    {
      "cell_type": "markdown",
      "metadata": {
        "id": "7ktWyxrQ5K0l"
      },
      "source": [
        "---\n",
        "***2.5 Instance vs Class Variables***\n",
        "- **Class Attributes:** shared by all instances\n",
        "  - Modifying class Attributes affects all instances\n",
        "\n",
        "- **Instance Attributes:** unique to each instance\n",
        "---"
      ]
    },
    {
      "cell_type": "code",
      "execution_count": null,
      "metadata": {
        "colab": {
          "base_uri": "https://localhost:8080/"
        },
        "id": "RH5dby1p6l5Y",
        "outputId": "9b31a253-2d2d-4118-e2a9-f02989f54e04"
      },
      "outputs": [
        {
          "name": "stdout",
          "output_type": "stream",
          "text": [
            "Ahmed Work at TechCorp\n",
            "Mustafa Work at TechCorp\n",
            "Ahmed Work at New_Tech_222\n",
            "Mustafa Work at New_Tech_222\n"
          ]
        }
      ],
      "source": [
        "class Employee:\n",
        "  # class Attributes\n",
        "  Company_name = \"TechCorp\"\n",
        "\n",
        "  def __init__(self, name, salary):\n",
        "    self.name_of_employee = name\n",
        "    self.salary_of_employee = salary\n",
        "\n",
        "  def info(self):\n",
        "    return f\"{self.name_of_employee} Work at {Employee.Company_name}\"\n",
        "\n",
        "###### TEST ########\n",
        "emp1 = Employee(\"Ahmed\", 5000)\n",
        "emp2 = Employee(\"Mustafa\", 6000)\n",
        "\n",
        "print(emp1.info())\n",
        "print(emp2.info())\n",
        "\n",
        "# After Changing a class Attribute (Company_name)\n",
        "\n",
        "Employee.Company_name = \"New_Tech_222\"\n",
        "\n",
        "print(emp1.info())\n",
        "print(emp2.info())\n"
      ]
    },
    {
      "cell_type": "markdown",
      "metadata": {
        "id": "dSDFaaRm88rc"
      },
      "source": [
        "---\n",
        "***2.6 Methods vs Functions***\n",
        "\n",
        "\n",
        "-  Method is a function defined inside the class that operate on objects.\n",
        "---"
      ]
    },
    {
      "cell_type": "code",
      "execution_count": null,
      "metadata": {
        "id": "K70mQQNE91R_"
      },
      "outputs": [],
      "source": [
        "class Calculator:\n",
        "    def __init__(self):\n",
        "        self.history = []\n",
        "\n",
        "    # Instance method\n",
        "    def add(self, a, b):\n",
        "        result = a + b\n",
        "        self.history.append(f\"{a} + {b} = {result}\")\n",
        "        return result\n",
        "\n",
        "\n",
        "# Function (outside class)\n",
        "def multiply(a, b):\n",
        "    return a * b"
      ]
    },
    {
      "cell_type": "markdown",
      "metadata": {
        "id": "NigcZ9-AdSw6"
      },
      "source": [
        "---\n",
        "***2.7 Class Methods & Static Methods***\n",
        "\n",
        "**A) Class Methods:**\n",
        "\n",
        "- Marked With **@classmethod** Decorator To Flag It As Class Method\n",
        "- It Take **cls** Parameter To Point To The Class not The Instance (not self)\n",
        "- It Doesn't Require Creation of a Class Instance\n",
        "\n",
        " ▶ Used When You Want To Do Something With The Class Itself\n",
        "---\n",
        "**B) Static Methods:**\n",
        "- It Takes No Parameters\n",
        "- Its Bound To The Class Not Instance\n",
        "\n",
        "  ▶Used When Doing Something Doesnt Have Access To Object Or Class But Related To Class\n",
        "---\n"
      ]
    },
    {
      "cell_type": "code",
      "execution_count": null,
      "metadata": {
        "colab": {
          "base_uri": "https://localhost:8080/"
        },
        "id": "ULUlueDQekm-",
        "outputId": "00372599-cb9b-4caa-df8e-9dbf1adb0704"
      },
      "outputs": [
        {
          "name": "stdout",
          "output_type": "stream",
          "text": [
            "New School Name: DeepLearning Institute\n",
            "Hello From Static Method\n",
            "None\n"
          ]
        }
      ],
      "source": [
        "class student:\n",
        "  school_name = \"AI Academy\"\n",
        "\n",
        "  def __init__(self, name, grade):\n",
        "    self.name = name\n",
        "    self.grade = grade\n",
        "\n",
        "  # A) Class Method\n",
        "  @classmethod\n",
        "  def change(cls, new_name):\n",
        "    cls.school_name = new_name\n",
        "\n",
        "\n",
        "  # B) Static Method\n",
        "  @staticmethod\n",
        "  def say_hello():\n",
        "    print(\"Hello From Static Method\")\n",
        "\n",
        "  @staticmethod\n",
        "  def is_passing(grade):\n",
        "    return grade >= 50\n",
        "\n",
        "#----------------\n",
        "\n",
        "s1 = student(\"Ahmed\", 90)\n",
        "\n",
        "student.change(\"DeepLearning Institute\")\n",
        "\n",
        "print(f\"New School Name: {student.school_name}\")\n",
        "\n",
        "\n",
        "print(student.say_hello())\n",
        "\n"
      ]
    },
    {
      "cell_type": "markdown",
      "metadata": {
        "id": "He---JBFigDb"
      },
      "source": [
        "---\n",
        "***2.8 Magic Methods***\n",
        " -  dunder or magic methods ( __ MethodName __)\n",
        "\n",
        "      - They allow you To define how objects of your classes behave when interacting with built-in operations, functions, or language constructs.\n",
        "\n",
        "**TYPES:**\n",
        "\n",
        "- Initialization and destruction: __ init __, __ new __, __ del __\n",
        "\n",
        "- Representation: __ str __, __ repr __\n",
        "\n",
        "- Comparison: __ eq __, __ lt __, __ gt __\n",
        "\n",
        "- Arithmetic operations: __ add __, __ sub __, __ mul __\n",
        "\n",
        "- Container behavior: __ len __, __ getitem __, __ setitem __, __ contains __\n",
        "\n",
        "- Context management: __ enter __, __ exit __\n",
        "\n",
        "- Attribute access: __ getattr __, __ setattr __, __ delattr __\n",
        "\n",
        "- Callables: __ call __\n",
        "\n",
        "***Some Definitions:***\n",
        "\n",
        "- __ init __       :Called Automatically When Instantiating Class\n",
        "- self__ class __  :The class to which a class instance belongs\n",
        "- __ str __        :Gives a Human-Readable Output of the Object\n",
        "- __ repr __       :Developer-friendly string representation\n",
        "- __ len __        :Returns the Length of the Container Called When We Use the Built-in len() Function on the Object\n",
        "---"
      ]
    },
    {
      "cell_type": "code",
      "execution_count": null,
      "metadata": {
        "colab": {
          "base_uri": "https://localhost:8080/"
        },
        "id": "5AmwEj5PkMte",
        "outputId": "ad2dfa9e-31f4-4c5e-ff7f-4135b920ec99"
      },
      "outputs": [
        {
          "name": "stdout",
          "output_type": "stream",
          "text": [
            "<__main__.skills object at 0x7e834bde4710>\n",
            "3\n",
            "5\n"
          ]
        }
      ],
      "source": [
        "class skills:\n",
        "  def __init__(self):\n",
        "    self.my_skills = [\"Html\", \"Css\", \"Js\"]\n",
        "\n",
        "\n",
        "  def __len__(self):\n",
        "    return len(self.my_skills)\n",
        "\n",
        "profile = skills()\n",
        "print(profile)\n",
        "\n",
        "print(len(profile))\n",
        "\n",
        "profile.my_skills.append(\"PHP\")\n",
        "profile.my_skills.append(\"MySQL\")\n",
        "\n",
        "print(len(profile))"
      ]
    },
    {
      "cell_type": "code",
      "execution_count": null,
      "metadata": {
        "colab": {
          "base_uri": "https://localhost:8080/"
        },
        "id": "vd1sFiSykpm2",
        "outputId": "82965dae-6963-47df-e9ac-b74c9763621c"
      },
      "outputs": [
        {
          "name": "stdout",
          "output_type": "stream",
          "text": [
            "<__main__.Book object at 0x782fe676cd50>\n",
            "________________________________________\n",
            "\n",
            "\n",
            "'1984' by George Orwell\n",
            "Book('1984', 'George Orwell', 328)\n",
            "'1984' by George Orwell\n"
          ]
        }
      ],
      "source": [
        "# First Case: Without using __str__ or __repr__\n",
        "class Book:\n",
        "    def __init__(self, title, author, pages):\n",
        "        self.title = title\n",
        "        self.author = author\n",
        "        self.pages = pages\n",
        "\n",
        "\n",
        "\n",
        "book = Book(\"1984\", \"George Orwell\", 328)\n",
        "print(book)\n",
        "\n",
        "print('_' * 40)\n",
        "print('\\n')\n",
        "\n",
        "# Second Case: With using __str__ or __repr__\n",
        "class Book:\n",
        "    def __init__(self, title, author, pages):\n",
        "        self.title = title\n",
        "        self.author = author\n",
        "        self.pages = pages\n",
        "\n",
        "    def __str__(self):\n",
        "        # User-friendly string representation\n",
        "        return f\"'{self.title}' by {self.author}\"\n",
        "\n",
        "    def __repr__(self):\n",
        "        # Developer-friendly string representation\n",
        "        return f\"Book('{self.title}', '{self.author}', {self.pages})\"\n",
        "\n",
        "book = Book(\"1984\", \"George Orwell\", 328)\n",
        "\n",
        "print(str(book))   # '1984' by George Orwell\n",
        "print(repr(book))  # Book('1984', 'George Orwell', 328)\n",
        "print(book)        # Calls __str__ by default: '1984' by George Orwell"
      ]
    },
    {
      "cell_type": "markdown",
      "metadata": {
        "id": "QVIBqrAH_4fu"
      },
      "source": [
        "---\n",
        "## **3.Inheritance**\n",
        "---\n",
        "▶ It is a mechanism that allows a class (child) to acquire properties and behaviors (attributes and methods) from another class (parent).\n",
        "\n",
        "- This promotes code reuse, logical hierarchy, and scalability in applications.\n",
        "\n",
        "- Types:\n",
        "  - Single Inheritance\n",
        "  - Multilevel Inheritance\n",
        "  - Multiple Inheritance\n",
        "  - Hierarchical Inheritance\n",
        "\n",
        "---"
      ]
    },
    {
      "cell_type": "markdown",
      "metadata": {
        "id": "bPbSjy4DQKn_"
      },
      "source": [
        "***3.1 Single Inheritance***\n",
        "\n",
        "class A:\n",
        "\n",
        "class B(A):\n",
        "___"
      ]
    },
    {
      "cell_type": "code",
      "execution_count": null,
      "metadata": {
        "id": "3q4atfp_QCDD"
      },
      "outputs": [],
      "source": [
        "class Animal:\n",
        "    def __init__(self, name, species):\n",
        "        self.animal_name = name\n",
        "        self.animal_species = species\n",
        "\n",
        "    def make_sound(self):\n",
        "        return f\"{self.animal_name} make a sound\"\n",
        "\n",
        "    def info(self):\n",
        "        return f\"{self.animal_name} is a {self.animal_species}\"\n",
        "\n",
        "# Dog inherents from the Animal\n",
        "class Dog(Animal):\n",
        "    def __init__(self, name, breed):\n",
        "        super().__init__(name, \"dog\") ## Calling parent constructor\n",
        "        self.breed = breed\n",
        "\n",
        "    def make_sound(self): # override method\n",
        "        return f\"{self.animal_name} barks\"\n",
        "\n",
        "    def fetch(self):    # new method specific to the Dog class\n",
        "        return f\"{self.animal_name} fetch the ball\"\n",
        "\n",
        "\n",
        "dog = Dog(\"Buddy\", \"Golden Retriever\")\n",
        "print(dog.info())        # (inherited method)\n",
        "print(dog.make_sound())  # (overridden method)\n",
        "print(dog.fetch())       # (new method)\n"
      ]
    },
    {
      "cell_type": "markdown",
      "metadata": {
        "id": "c6AxShAzQIr9"
      },
      "source": [
        "---\n",
        "***3.2 Multilevel Inheritance***\n",
        "\n",
        "class A:\n",
        "\n",
        "class B(A):\n",
        "\n",
        "class C(B):\n",
        "\n",
        "---"
      ]
    },
    {
      "cell_type": "code",
      "execution_count": null,
      "metadata": {
        "id": "_5jhAo94QXlV"
      },
      "outputs": [],
      "source": [
        "class Vehicle:\n",
        "    def __init__(self, brand, model):\n",
        "        self.brand = brand\n",
        "        self.model = model\n",
        "\n",
        "class CarA(Vehicle):\n",
        "    def __init__(self, brand, model, doors):\n",
        "        super().__init__(brand, model)\n",
        "        self.doors = doors\n",
        "\n",
        "    def honk(self):\n",
        "        return \"Beep Beep!\"\n",
        "\n",
        "class CarB(CarA):\n",
        "    def __init__(self, brand, model, doors, Battery_capacity):\n",
        "        super().__init__(brand, model, doors)\n",
        "        self.Battery_capacity = Battery_capacity\n",
        "\n",
        "    def charge(self):\n",
        "        return f\"Charging {self.Battery_capacity} KWh Battery\"\n",
        "\n",
        "tesla = CarB(\"Tesla\", \"Model 3\", 4, 75)\n",
        "\n",
        "print(tesla.honk())    # (from CarA)\n",
        "print(tesla.charge())  # (from CarB)\n"
      ]
    },
    {
      "cell_type": "markdown",
      "metadata": {
        "id": "GucD7rEIQdi2"
      },
      "source": [
        "---\n",
        "***3.3 Multiple Inheritance***\n",
        "\n",
        "class A:\n",
        "\n",
        "class B:\n",
        "\n",
        "class C(A, B):\n",
        "\n",
        "---"
      ]
    },
    {
      "cell_type": "code",
      "execution_count": null,
      "metadata": {
        "id": "qzYmGeStQgbF"
      },
      "outputs": [],
      "source": [
        "class Flyable:\n",
        "    def fly(self):\n",
        "        return \"Flying through the air\"\n",
        "\n",
        "class Swimmable:\n",
        "    def swim(self):\n",
        "        return \"Swimming in water\"\n",
        "\n",
        "class Duck(Animal, Flyable, Swimmable):\n",
        "    def __init__(self, name):\n",
        "        super().__init__(name, \"Duck\")\n",
        "\n",
        "    def make_sound(self):\n",
        "        return f\"{self.animal_name} quacks\"\n",
        "\n",
        "\n",
        "duck = Duck(\"Donald\")\n",
        "print(duck.info())\n",
        "print(duck.make_sound())\n",
        "print(duck.fly())\n",
        "print(duck.swim())"
      ]
    },
    {
      "cell_type": "markdown",
      "metadata": {
        "id": "GT2bQdIlQiJb"
      },
      "source": [
        "---\n",
        "***3.4 Hierarchical Inheritance***\n",
        "\n",
        "class A:\n",
        "\n",
        "class B(A):\n",
        "\n",
        "class C(A):\n",
        "\n",
        "---"
      ]
    },
    {
      "cell_type": "code",
      "execution_count": null,
      "metadata": {
        "id": "Z4NMtKHKQmo_"
      },
      "outputs": [],
      "source": [
        "class A:\n",
        "    def print_a(self):\n",
        "        print('Hello from class A')\n",
        "\n",
        "class B(A):\n",
        "    def print_b(self):\n",
        "        print('Hello from class B')\n",
        "\n",
        "class C(A):\n",
        "    def print_c(self):\n",
        "        print('Hello from class C')\n",
        "\n",
        "\n",
        "\n",
        "c = C()\n",
        "c.print_a()\n",
        "c.print_c()\n",
        "\n",
        "b = B()\n",
        "b.print_a()\n",
        "b.print_b()"
      ]
    },
    {
      "cell_type": "markdown",
      "metadata": {
        "id": "f6_eJ5O1QoqD"
      },
      "source": [
        "---\n",
        "***3.5 The super() Function***\n",
        "\n",
        "▶ provides access to methods in a parent class from a child class.\n",
        "\n",
        "---"
      ]
    },
    {
      "cell_type": "code",
      "execution_count": null,
      "metadata": {
        "colab": {
          "base_uri": "https://localhost:8080/"
        },
        "id": "E-wNP8-gQrTd",
        "outputId": "66c3c01d-0ec2-417d-a64c-9c76345ed841"
      },
      "outputs": [
        {
          "name": "stdout",
          "output_type": "stream",
          "text": [
            "A red shape with area 15\n"
          ]
        }
      ],
      "source": [
        "class Shape:\n",
        "    def __init__(self, color):\n",
        "        self.color = color\n",
        "\n",
        "    def describe(self):\n",
        "        return f\"A {self.color} shape\"\n",
        "\n",
        "class Rectangle(Shape):\n",
        "    # Call parent constructor\n",
        "    def __init__(self, color, width, height):\n",
        "        super().__init__(color)\n",
        "        self.width = width\n",
        "        self.height = height\n",
        "\n",
        "    # Call parent method\n",
        "    def describe(self):\n",
        "        parent_description = super().describe()\n",
        "        return f\"{parent_description} with area {self.width * self.height}\"\n",
        "\n",
        "rect = Rectangle(\"red\", 5, 3)\n",
        "print(rect.describe())"
      ]
    },
    {
      "cell_type": "markdown",
      "metadata": {
        "id": "4aGPXPCaQzb7"
      },
      "source": [
        "---\n",
        "***3.6 Method Overriding***\n",
        "\n",
        "---"
      ]
    },
    {
      "cell_type": "code",
      "execution_count": null,
      "metadata": {
        "id": "NlAkOZ_FQyHg"
      },
      "outputs": [],
      "source": [
        "class Payment:\n",
        "    def __init__(self, amount):\n",
        "        self.amount = amount\n",
        "\n",
        "    def process(self):\n",
        "        return f\"Processing payment of ${self.amount}\"\n",
        "\n",
        "class CreditCardPayment(Payment):\n",
        "    def __init__(self, amount, card_number):\n",
        "        super().__init__(amount)\n",
        "        self.card_number = card_number\n",
        "\n",
        "    def process(self):  # Override parent method\n",
        "        return f\"Processing credit card payment of ${self.amount} with card {self.card_number[-4:]}\"\n",
        "\n",
        "class PayPalPayment(Payment):\n",
        "    def __init__(self, amount, email):\n",
        "        super().__init__(amount)\n",
        "        self.email = email\n",
        "\n",
        "    def process(self):  # Override parent method\n",
        "        return f\"Processing PayPal payment of ${self.amount} to {self.email}\"\n",
        "\n",
        "\n",
        "payments = [\n",
        "    CreditCardPayment(100, \"1234567890123456\"),\n",
        "    PayPalPayment(75, \"user@example.com\")\n",
        "]\n",
        "\n",
        "for payment in payments:\n",
        "    print(payment.process())\n"
      ]
    },
    {
      "cell_type": "markdown",
      "metadata": {
        "id": "Ew-Y5LsRRU4n"
      },
      "source": [
        "---\n",
        "## **4.Polymorphism**\n",
        "---\n",
        "▶ Polymorphism is an object-oriented programming concept where a single interface can represent different types of behaviors depending on the object that is using it.\n",
        "It allows different classes to define methods with the same name but with behavior appropriate to that class.\n",
        "\n",
        "- This promotes flexibility and interchangeability in code.\n",
        "\n",
        "***Example:***\n",
        "- len( ) method Apply the Polymorphism Principle, when we pass:\n",
        "    - string -> return number of characters\n",
        "    - list   -> return number of elements\n",
        "    - dict   -> return number of Keys\n",
        "\n",
        "\n",
        "- We use:\n",
        "    => isinstance(obj_name, class_name)\n",
        "---    \n",
        "  "
      ]
    },
    {
      "cell_type": "code",
      "execution_count": null,
      "metadata": {
        "colab": {
          "base_uri": "https://localhost:8080/"
        },
        "id": "meHq5RlWSDNH",
        "outputId": "6e1a87fc-af96-4889-fc9e-4b12eef30f85"
      },
      "outputs": [
        {
          "name": "stdout",
          "output_type": "stream",
          "text": [
            "Sound: Quack\n",
            "Movement: Swimming\n",
            "------------------------------\n",
            "Sound: Woof\n",
            "Movement: Running\n",
            "------------------------------\n",
            "Sound: Beep\n",
            "Movement: Rolling\n",
            "------------------------------\n"
          ]
        }
      ],
      "source": [
        "class Duck:\n",
        "    def make_sound(self):\n",
        "        return \"Quack\"\n",
        "\n",
        "    def move(self):\n",
        "        return \"Swimming\"\n",
        "\n",
        "class Dog:\n",
        "    def make_sound(self):\n",
        "        return \"Woof\"\n",
        "\n",
        "    def move(self):\n",
        "        return \"Running\"\n",
        "\n",
        "class Robot:\n",
        "    def make_sound(self):\n",
        "        return \"Beep\"\n",
        "\n",
        "    def move(self):\n",
        "        return \"Rolling\"\n",
        "\n",
        "def animal_actions(animal):\n",
        "    # Function that works with any object that has make_sound and move methods\n",
        "    print(f\"Sound: {animal.make_sound()}\")\n",
        "    print(f\"Movement: {animal.move()}\")\n",
        "\n",
        "animals = [Duck(), Dog(), Robot()]\n",
        "\n",
        "for animal in animals:\n",
        "    animal_actions(animal)\n",
        "    print(\"---\"*10)"
      ]
    },
    {
      "cell_type": "code",
      "execution_count": null,
      "metadata": {
        "colab": {
          "base_uri": "https://localhost:8080/"
        },
        "id": "sTgpLVs3SD4X",
        "outputId": "b52946fd-73e7-4af4-d7f9-5bfb681ed2a1"
      },
      "outputs": [
        {
          "name": "stdout",
          "output_type": "stream",
          "text": [
            "Country: Egypt\n",
            "Capital: Cairo\n",
            "Language: Arabic\n",
            "Country: Australia\n",
            "Capital: Canberra\n",
            "Language: English\n"
          ]
        }
      ],
      "source": [
        "## Applying polymorphism with inheritance + Lists\n",
        "\n",
        "class BaseCountry:\n",
        "    def name(self):\n",
        "        pass\n",
        "\n",
        "    def capital(self):\n",
        "        pass\n",
        "\n",
        "    def language(self):\n",
        "        pass\n",
        "\n",
        "\n",
        "class Egypt(BaseCountry):\n",
        "\n",
        "    def name(self):\n",
        "        print('Country: Egypt')\n",
        "\n",
        "    def capital(self):\n",
        "        print('Capital: Cairo')\n",
        "\n",
        "    def language(self):\n",
        "        print('Language: Arabic')\n",
        "\n",
        "\n",
        "class Australia(BaseCountry):\n",
        "\n",
        "    def name(self):\n",
        "        print('Country: Australia')\n",
        "\n",
        "    def capital(self):\n",
        "        print('Capital: Canberra')\n",
        "\n",
        "    def language(self):\n",
        "        print('Language: English')\n",
        "\n",
        "\n",
        "egypt = Egypt()\n",
        "australia = Australia()\n",
        "\n",
        "countries = [egypt, australia]\n",
        "\n",
        "\n",
        "for country in countries:\n",
        "    if isinstance(country, BaseCountry):\n",
        "        country.name()\n",
        "        country.capital()\n",
        "        country.language()"
      ]
    },
    {
      "cell_type": "markdown",
      "metadata": {
        "id": "63vR3INoSNQP"
      },
      "source": [
        "---\n",
        "## **5.Encapsulation**\n",
        "---\n",
        "\n",
        "▶ is the bundling of data and methods that work on that data within a single unit, and restricting access to some components.\n",
        "\n",
        "---"
      ]
    },
    {
      "cell_type": "markdown",
      "metadata": {
        "id": "i_IFEM3BSfsb"
      },
      "source": [
        "***5.1 Public, Protected, Private Attributes***\n",
        "\n",
        "A) Public:\n",
        "\n",
        "- Every Attribute and method can be modified and run from everywhere (inside and outside the class)\n",
        "\n",
        "B) Protected:\n",
        "\n",
        "- can be accessed from its class and subclass\n",
        "- syntax: _name\n",
        "\n",
        "C) Private:\n",
        "\n",
        "- can be accessed from within the class or object only\n",
        "- can't be modefied from outside the class\n",
        "- syntax: __name\n",
        "\n",
        "- Note:\n",
        "    - _name , __name => convention names in python for user"
      ]
    },
    {
      "cell_type": "code",
      "execution_count": null,
      "metadata": {
        "colab": {
          "base_uri": "https://localhost:8080/"
        },
        "id": "APFg0lQGSLrQ",
        "outputId": "51a2573e-5792-4224-a9b4-8f221a92c914"
      },
      "outputs": [
        {
          "name": "stdout",
          "output_type": "stream",
          "text": [
            "Ahmed\n",
            "Sayed\n"
          ]
        }
      ],
      "source": [
        "# public Example:\n",
        "class Member:\n",
        "    def __init__(self, name):\n",
        "        self.name = name #public\n",
        "\n",
        "one = Member(\"Ahmed\")\n",
        "print(one.name)\n",
        "\n",
        "one.name = \"Sayed\"\n",
        "print(one.name)\n"
      ]
    },
    {
      "cell_type": "code",
      "execution_count": null,
      "metadata": {
        "colab": {
          "base_uri": "https://localhost:8080/"
        },
        "id": "mTC1vo4hSjeD",
        "outputId": "2cddd518-ca9d-4472-ef3e-9d4a4e3b694b"
      },
      "outputs": [
        {
          "name": "stdout",
          "output_type": "stream",
          "text": [
            "Ahmed\n",
            "Sayed\n"
          ]
        }
      ],
      "source": [
        "# protected Example:\n",
        "class Member:\n",
        "    def __init__(self, name):\n",
        "        self._name = name # protected\n",
        "\n",
        "one = Member(\"Ahmed\")\n",
        "print(one._name)\n",
        "\n",
        "one._name = \"Sayed\"\n",
        "print(one._name)\n"
      ]
    },
    {
      "cell_type": "code",
      "execution_count": null,
      "metadata": {
        "colab": {
          "base_uri": "https://localhost:8080/",
          "height": 176
        },
        "id": "wnkfyqNHSku0",
        "outputId": "87b857f8-0df5-4fd4-80b0-46afb7138975"
      },
      "outputs": [
        {
          "ename": "AttributeError",
          "evalue": "'Member' object has no attribute '__name'",
          "output_type": "error",
          "traceback": [
            "\u001b[0;31m---------------------------------------------------------------------------\u001b[0m",
            "\u001b[0;31mAttributeError\u001b[0m                            Traceback (most recent call last)",
            "\u001b[0;32m/tmp/ipython-input-9-3448242456.py\u001b[0m in \u001b[0;36m<cell line: 0>\u001b[0;34m()\u001b[0m\n\u001b[1;32m      5\u001b[0m \u001b[0;34m\u001b[0m\u001b[0m\n\u001b[1;32m      6\u001b[0m \u001b[0mone\u001b[0m \u001b[0;34m=\u001b[0m \u001b[0mMember\u001b[0m\u001b[0;34m(\u001b[0m\u001b[0;34m\"Ahmed\"\u001b[0m\u001b[0;34m)\u001b[0m\u001b[0;34m\u001b[0m\u001b[0;34m\u001b[0m\u001b[0m\n\u001b[0;32m----> 7\u001b[0;31m \u001b[0mprint\u001b[0m\u001b[0;34m(\u001b[0m\u001b[0mone\u001b[0m\u001b[0;34m.\u001b[0m\u001b[0m__name\u001b[0m\u001b[0;34m)\u001b[0m\u001b[0;34m\u001b[0m\u001b[0;34m\u001b[0m\u001b[0m\n\u001b[0m",
            "\u001b[0;31mAttributeError\u001b[0m: 'Member' object has no attribute '__name'"
          ]
        }
      ],
      "source": [
        "# Private Example:\n",
        "class Member:\n",
        "    def __init__(self, name):\n",
        "        self.__name = name # Private\n",
        "\n",
        "one = Member(\"Ahmed\")\n",
        "print(one.__name)\n"
      ]
    },
    {
      "cell_type": "code",
      "execution_count": null,
      "metadata": {
        "id": "25rzNyMRSmCZ"
      },
      "outputs": [],
      "source": [
        "# we can access the private\n",
        "# _ClassName__PrivateVariable\n",
        "class Member:\n",
        "    def __init__(self, name):\n",
        "        self.__name = name # Private\n",
        "\n",
        "one = Member(\"Ahmed\")\n",
        "print(one._Member__name)"
      ]
    },
    {
      "cell_type": "markdown",
      "metadata": {
        "id": "3TDBZSXgSs3v"
      },
      "source": [
        "---\n",
        "***5.2 setters, getters***\n",
        "\n",
        "▶ Two methods allow me to modefiy and access private properties\n",
        "\n",
        "---"
      ]
    },
    {
      "cell_type": "code",
      "execution_count": null,
      "metadata": {
        "id": "mA3SXbKMSudq"
      },
      "outputs": [],
      "source": [
        "class Member:\n",
        "    def __init__(self, name):\n",
        "        self.__name = name # private\n",
        "\n",
        "    def say_hello(self):\n",
        "        return f\"Hello {self.__name}\"\n",
        "\n",
        "    # getters\n",
        "    def get_name(self):\n",
        "        return self.__name\n",
        "\n",
        "    # setter\n",
        "    def set_name(self, new_name):\n",
        "        self.__name = new_name\n",
        "\n",
        "\n",
        "one = Member(\"Ahmed\")\n",
        "one.get_name()\n",
        "\n",
        "one.set_name(\"Abdullah\")\n",
        "one.get_name()"
      ]
    },
    {
      "cell_type": "markdown",
      "metadata": {
        "id": "gQNN_XpUSxtw"
      },
      "source": [
        "---\n",
        "***5.3 Property Decorator***\n",
        "\n",
        "---\n"
      ]
    },
    {
      "cell_type": "code",
      "execution_count": null,
      "metadata": {
        "id": "PlrJ6QBlSy_v"
      },
      "outputs": [],
      "source": [
        "class Member:\n",
        "    def __init__(self, name, age):\n",
        "        self.name = name\n",
        "        self.age = age\n",
        "\n",
        "    def say_hello(self):\n",
        "        return f\"Hello {self.name}\"\n",
        "\n",
        "    @property\n",
        "    def age_in_days(self):\n",
        "        return self.age * 365\n",
        "\n",
        "\n",
        "one = Member(\"Ahmed\", 40)\n",
        "\n",
        "print(one.name)\n",
        "print(one.age)\n",
        "print(one.say_hello())\n",
        "print(one.age_in_days)\n"
      ]
    },
    {
      "cell_type": "markdown",
      "metadata": {
        "id": "AEBP4R0GTEFx"
      },
      "source": [
        "---\n",
        "##**6. Abstraction**\n",
        "\n",
        "---\n",
        "▶ Abstraction is an object-oriented programming principle that involves hiding the internal details of how something works and showing only the essential features needed for interaction.\n",
        "\n",
        "- It helps manage complexity by exposing only what is necessary and keeping the implementation hidden from the user."
      ]
    },
    {
      "cell_type": "markdown",
      "metadata": {
        "id": "L46IjkxKTPgB"
      },
      "source": [
        "***6.1 Abstract Base Classes***\n",
        "\n",
        "▶ Provide an infrastructure for Defining Custom Abstract Base Classes.\n",
        "- it has one or more abstract method\n",
        "- by adding @abstractmethod Decorator on the method"
      ]
    },
    {
      "cell_type": "code",
      "execution_count": null,
      "metadata": {
        "colab": {
          "base_uri": "https://localhost:8080/"
        },
        "id": "drvhUX9mTOmk",
        "outputId": "09a73a6d-16b6-4ace-bf85-fb0a00b6c7af"
      },
      "outputs": [
        {
          "name": "stdout",
          "output_type": "stream",
          "text": [
            "31.4159\n",
            "A blue shape with area 78.53975\n"
          ]
        }
      ],
      "source": [
        "from abc import ABCMeta, abstractmethod\n",
        "\n",
        "class Shape(metaclass = ABCMeta):\n",
        "    def __init__(self, color):\n",
        "        self.color = color\n",
        "\n",
        "    # Abstract method - must be implemented by subclasses\n",
        "    @abstractmethod\n",
        "    def area(self):\n",
        "        pass\n",
        "\n",
        "    # Abstract method - must be implemented by subclasses\n",
        "    @abstractmethod\n",
        "    def perimeter(self):\n",
        "        pass\n",
        "\n",
        "    # Concrete method - can be used by subclasses\n",
        "    def display_info(self):\n",
        "        return f\"A {self.color} shape with area {self.area()}\"\n",
        "\n",
        "\n",
        "class Circle(Shape):\n",
        "    def __init__(self, color, radius):\n",
        "        super().__init__(color)\n",
        "        self.radius = radius\n",
        "\n",
        "    def area(self): # must\n",
        "        return 3.14159 * self.radius ** 2\n",
        "\n",
        "    def perimeter(self): # must\n",
        "        return 2 * 3.14159 * self.radius\n",
        "\n",
        "\n",
        "# some_shape = Shape(\"red\") # Error!!! (Can't instantiate abstract class Shape)\n",
        "\n",
        "circle = Circle(\"blue\", 5)\n",
        "\n",
        "print(circle.perimeter())  # Abstract method\n",
        "print(circle.display_info())  # Concrete method"
      ]
    },
    {
      "cell_type": "code",
      "execution_count": null,
      "metadata": {
        "colab": {
          "base_uri": "https://localhost:8080/"
        },
        "id": "4cd03FUyTVDi",
        "outputId": "df4e6283-537f-46e3-d620-a2b8156e7e55"
      },
      "outputs": [
        {
          "name": "stdout",
          "output_type": "stream",
          "text": [
            "6\n",
            "24\n",
            "A green shape with area 24\n"
          ]
        }
      ],
      "source": [
        "class Rectangle(Shape):\n",
        "    def __init__(self, color, width, height):\n",
        "        super().__init__(color)\n",
        "        self.width = width\n",
        "        self.height = height\n",
        "\n",
        "    def area(self):\n",
        "        return self.width * self.height\n",
        "\n",
        "    def perimeter(self):\n",
        "        return 2 * (self.width + self.height)\n",
        "\n",
        "rectangle = Rectangle(\"green\", 4, 6)\n",
        "\n",
        "print(rectangle.height)\n",
        "print(rectangle.area())\n",
        "print(rectangle.display_info())"
      ]
    },
    {
      "cell_type": "markdown",
      "metadata": {
        "id": "ynigmGcVohmo"
      },
      "source": [
        "---\n",
        "## **7. Composition and Aggregation**\n",
        "---"
      ]
    },
    {
      "cell_type": "markdown",
      "metadata": {
        "id": "ewT5kDXWpBz9"
      },
      "source": [
        "***7.1 Composition***\n",
        "\n",
        "▶ Composition is a strong form of association where one class owns another class.\n",
        "- The child object is created inside the parent and cannot exist independently.\n",
        "- If the parent is destroyed, the child is destroyed as well.\n",
        "- **Key Points:**\n",
        "\n",
        "  - Strong ownership.\n",
        "\n",
        "  - Life cycle of the child depends on the parent.\n",
        "\n",
        "  - Typically created using: self.child = ChildClass() inside the parent.\n",
        "\n",
        "---"
      ]
    },
    {
      "cell_type": "code",
      "execution_count": null,
      "metadata": {
        "colab": {
          "base_uri": "https://localhost:8080/"
        },
        "id": "nsyE71S0outq",
        "outputId": "2a762804-8de3-49b1-ae0f-3290551bca1e"
      },
      "outputs": [
        {
          "name": "stdout",
          "output_type": "stream",
          "text": [
            "190000\n"
          ]
        }
      ],
      "source": [
        "class Salary:\n",
        "  def __init__(self, pay, bonus):\n",
        "    self.pay = pay\n",
        "    self.bonus = bonus\n",
        "\n",
        "  def annual_salary(self):\n",
        "    return (self.pay * 12) + self.bonus\n",
        "\n",
        "\n",
        "class Employee:\n",
        "  def __init__(self, name, age, pay, bonus):\n",
        "    self.name = name\n",
        "    self.age = age\n",
        "    self.obj_salary = Salary(pay, bonus) # Composition\n",
        "\n",
        "  def total_salary(self):\n",
        "      return self.obj_salary.annual_salary()\n",
        "\n",
        "emp = Employee('max', 25, 15000, 10000)\n",
        "print(emp.total_salary())"
      ]
    },
    {
      "cell_type": "markdown",
      "metadata": {
        "id": "hBuzxl9IsMDA"
      },
      "source": [
        "---\n",
        "***7.2 Aggregation***\n",
        "\n",
        "▶Aggregation is a weaker form of association where one class uses another class, but does not own it.\n",
        "\n",
        "- The child object is passed into the parent and can exist independently.\n",
        "\n",
        "- **Key Points:**\n",
        "\n",
        "  - Weak ownership.\n",
        "\n",
        "  - Life cycle of the child is independent of the parent.\n",
        "\n",
        "  - Typically implemented by passing the child object via constructor or setter.\n",
        "\n",
        "---"
      ]
    },
    {
      "cell_type": "code",
      "execution_count": null,
      "metadata": {
        "colab": {
          "base_uri": "https://localhost:8080/"
        },
        "id": "smja4kPMsIb2",
        "outputId": "eb5bf09c-a4e5-4b6d-ecec-9ff759a74959"
      },
      "outputs": [
        {
          "name": "stdout",
          "output_type": "stream",
          "text": [
            "190000\n"
          ]
        }
      ],
      "source": [
        "class Salary:\n",
        "  def __init__(self, pay, bonus):\n",
        "    self.pay = pay\n",
        "    self.bonus = bonus\n",
        "\n",
        "  def annual_salary(self):\n",
        "    return (self.pay * 12) + self.bonus\n",
        "\n",
        "\n",
        "class Employee:\n",
        "  def __init__(self, name, age, salary):\n",
        "    self.name = name\n",
        "    self.age = age\n",
        "    self.obj_salary = salary # Aggregation\n",
        "\n",
        "  def total_salary(self):\n",
        "      return self.obj_salary.annual_salary()\n",
        "\n",
        "salary = Salary(15000, 10000)\n",
        "emp = Employee('max', 25, salary)\n",
        "print(emp.total_salary())"
      ]
    },
    {
      "cell_type": "markdown",
      "metadata": {
        "id": "grqGj9WBuKP1"
      },
      "source": [
        "***7.3 Comparison Beteen Composition, Aggregation and Inheritance***\n",
        "\n",
        "**A) Composition:**\n",
        "\n",
        "- Strong relationship.\n",
        "\n",
        "- The child object is created and owned inside the parent object.\n",
        "\n",
        "- *Example*: Car has a Engine.\n",
        "\n",
        "\n",
        "**B) Aggregation:**\n",
        "\n",
        "- Weak relationship.\n",
        "\n",
        "- The child object can exist independently of the parent.\n",
        "\n",
        "- *Example*: University has Student.\n",
        "\n",
        "**C) Inheritance:**\n",
        "\n",
        "- \"Is-a\" relationship.\n",
        "\n",
        "- *Example*: Dog is an Animal."
      ]
    },
    {
      "cell_type": "markdown",
      "metadata": {
        "id": "HWI2CG02EzIY"
      },
      "source": [
        "---\n",
        "## **8. Object Lifecycle and Memory**\n",
        "---\n",
        "\n",
        "In OOP, when we create an object from any class, this object goes through three main stages:\n",
        "\n",
        "**1- Creation**: When it’s first instantiated\n",
        "\n",
        "**2- Usage:** While the object is being used in the program\n",
        "\n",
        "**3- Deletion:** When it's no longer needed and removed from memory\n",
        "\n",
        "![image.png](data:image/png;base64,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)\n",
        "----\n",
        "- **Is Important For:**\n",
        "  - **Efficient Memory Management:** When you create objects, they occupy space in the computer's memory. If objects that are no longer in use aren't removed, they can accumulate and consume significant memory, leading to slow performance or even program crashes.\n",
        "\n",
        "  - **Performance Optimization:** Objects that use system resources (like open files, database connections) must be properly closed and released to ensure these resources aren't depleted.\n",
        "\n",
        "  - **Avoiding Errors:** A lack of understanding of memory management can lead to hard-to-trace errors, such as accessing an object that has already been deleted."
      ]
    },
    {
      "cell_type": "markdown",
      "metadata": {
        "id": "b9QfgQ5qF2JB"
      },
      "source": [
        "## ***8.1 The `__del__` Method***\n",
        "▶ You can use it to clean up resources that the object might have used, such as closing open files or releasing database connections.\n",
        "\n",
        "- However, you shouldn't rely on it completely for resource deallocation because Python doesn't guarantee exactly when it will be called.\n",
        "___"
      ]
    },
    {
      "cell_type": "code",
      "execution_count": null,
      "metadata": {
        "colab": {
          "base_uri": "https://localhost:8080/"
        },
        "id": "h1lj2m1zIGMQ",
        "outputId": "83abeadb-0300-429c-9b89-4952ec325efd"
      },
      "outputs": [
        {
          "name": "stdout",
          "output_type": "stream",
          "text": [
            "Bank account number: 123456789 opened with a balance of $1000.\n",
            "Bank account number: 987654321 opened with a balance of $500.\n",
            "Closing bank account number: 123456789...\n",
            "Bank account number: 123456789 closed.\n"
          ]
        }
      ],
      "source": [
        "class BankAccount:\n",
        "    def __init__(self, account_number, balance):\n",
        "        self.account_number = account_number\n",
        "        self.balance = balance\n",
        "        print(f\"Bank account number: {self.account_number} opened with a balance of ${self.balance}.\")\n",
        "\n",
        "    def __del__(self):\n",
        "        # This method is called when the object is deleted\n",
        "        print(f\"Closing bank account number: {self.account_number}...\")\n",
        "\n",
        "        print(f\"Bank account number: {self.account_number} closed.\")\n",
        "\n",
        "\n",
        "savings_account = BankAccount(\"123456789\", 1000)\n",
        "checking_account = BankAccount(\"987654321\", 500)\n",
        "\n",
        "# When there are no more references to savings_account, or when the program ends\n",
        "# __del__ will be called.\n",
        "# We can expedite the deletion process by dereferencing the object:\n",
        "del savings_account\n"
      ]
    },
    {
      "cell_type": "markdown",
      "metadata": {
        "id": "g7A2NeEr1lBt"
      },
      "source": [
        "----\n",
        "## ***8.2 Garbage Collection in Python***\n",
        "\n",
        "▶ Is an automatic memory management system. Its job is to identify objects that are no longer reachable (there are no longer any references pointing to them) and free up the space they occupy in memory.\n",
        "\n",
        " - This frees the programmer from the task of manual memory management, which can be complex and lead to errors.\n",
        "\n",
        "***NOTE:***\n",
        "- How does **Reference Counting** Work?.\n",
        "\n",
        "  - When an object is created, its **reference count = 1.**\n",
        "  - Each time a new reference is created that points to this object, the reference count increases **( reference count += 1 )**.\n",
        "  - And each time a reference is deleted, the reference count decreases.**( reference count -= 1 )**\n",
        "  - When the reference count reaches zero **( reference count = 0 )**, the garbage collector knows that the object is no longer in use and can be deleted.\n",
        "---"
      ]
    },
    {
      "cell_type": "code",
      "execution_count": null,
      "metadata": {
        "colab": {
          "base_uri": "https://localhost:8080/"
        },
        "id": "6cqx0YnNLrl2",
        "outputId": "0c3c1172-83a7-42d8-b788-e84f615921c4"
      },
      "outputs": [
        {
          "name": "stdout",
          "output_type": "stream",
          "text": [
            "Car created\n",
            "Car deleted\n"
          ]
        }
      ],
      "source": [
        "class Car:\n",
        "    def __init__(self):\n",
        "        print(\"Car created\")\n",
        "\n",
        "    def __del__(self):\n",
        "        print(\"Car deleted\")\n",
        "\n",
        "def test():\n",
        "    my_car = Car()\n",
        "\n",
        "test()  # After function ends, the object has no references → it’s\n",
        "# __del__() will be called\n"
      ]
    },
    {
      "cell_type": "markdown",
      "metadata": {
        "id": "pL66n8XCM8hP"
      },
      "source": [
        "    "
      ]
    },
    {
      "cell_type": "code",
      "execution_count": null,
      "metadata": {
        "id": "NUUbILEXM7Yh"
      },
      "outputs": [],
      "source": []
    },
    {
      "cell_type": "markdown",
      "metadata": {
        "id": "TiW1aKFbzUOA"
      },
      "source": [
        "---\n",
        "## **9. Overview of some Key OOP Design Patterns **\n",
        "---\n",
        "▶ Design patterns are typical solutions to commonly occurring problems in software design. They are like pre-made blueprints that you can customize to solve a recurring design problem in your code.\n",
        "\n",
        "- You can’t just find a pattern and copy it into your program, You can follow the pattern details and implement a solution that suits the realities of your own program.\n"
      ]
    },
    {
      "cell_type": "markdown",
      "metadata": {
        "id": "8ZR3Pg2hznZl"
      },
      "source": [
        "---\n",
        "***9.1 Factory Pattern***\n",
        "\n",
        "▶ is a creational design pattern that provides an interface for creating objects in a superclass, but allows subclasses to alter the type of objects that will be created.\n",
        "\n",
        "---"
      ]
    },
    {
      "cell_type": "code",
      "execution_count": null,
      "metadata": {
        "colab": {
          "base_uri": "https://localhost:8080/"
        },
        "id": "2pv-CSRws3B0",
        "outputId": "ae5685b1-de14-4058-f58c-2ae4cc954fa1"
      },
      "outputs": [
        {
          "name": "stdout",
          "output_type": "stream",
          "text": [
            "Woof!\n"
          ]
        }
      ],
      "source": [
        "class Dog:\n",
        "    def speak(self):\n",
        "        return \"Woof!\"\n",
        "\n",
        "class Cat:\n",
        "    def speak(self):\n",
        "        return \"Meow!\"\n",
        "\n",
        "class AnimalFactory:\n",
        "    def get_animal(self, animal_type):\n",
        "        if animal_type == \"dog\":\n",
        "            return Dog()\n",
        "        elif animal_type == \"cat\":\n",
        "            return Cat()\n",
        "\n",
        "factory = AnimalFactory()\n",
        "animal = factory.get_animal(\"dog\")\n",
        "print(animal.speak())\n"
      ]
    },
    {
      "cell_type": "markdown",
      "metadata": {
        "id": "xjrqoaud1FgS"
      },
      "source": [
        "---\n",
        "***9.2 Singleton Pattern***\n",
        "\n",
        "▶ is a creational design pattern that lets you ensure that a class has only one instance, while providing a global access point to this instance.\n",
        "\n",
        "---"
      ]
    },
    {
      "cell_type": "code",
      "execution_count": null,
      "metadata": {
        "colab": {
          "base_uri": "https://localhost:8080/"
        },
        "id": "m7NQf0zK1msF",
        "outputId": "cdef4f3e-39e7-4a8e-e6cc-1f6e19535c95"
      },
      "outputs": [
        {
          "name": "stdout",
          "output_type": "stream",
          "text": [
            "Creating the first object:\n",
            "Creating a new Singleton instance\n",
            "Running __init__ (this may run multiple times)\n",
            "\n",
            "Creating a second object:\n",
            "Reusing the existing Singleton instance\n",
            "Running __init__ (this may run multiple times)\n",
            "\n",
            "Are 'a' and 'b' the same instance?\n",
            "Result: True\n",
            "ID of a: 133932943328976\n",
            "ID of b: 133932943328976\n"
          ]
        }
      ],
      "source": [
        "class Singleton:\n",
        "    # This class-level variable will hold the single instance\n",
        "    _instance = None\n",
        "\n",
        "    def __new__(cls):\n",
        "        \"\"\"\n",
        "        __new__ is responsible for creating the object (before __init__ is called).\n",
        "        We override it to ensure only one instance is ever created.\n",
        "        \"\"\"\n",
        "        # Check if an instance already exists\n",
        "        if cls._instance is None:\n",
        "            print(\"Creating a new Singleton instance\")\n",
        "            # If not, create and store the instance\n",
        "            cls._instance = super().__new__(cls)\n",
        "        else:\n",
        "            print(\"Reusing the existing Singleton instance\")\n",
        "\n",
        "        # Always return the single instance\n",
        "        return cls._instance\n",
        "\n",
        "    def __init__(self):\n",
        "        print(\"Running __init__ (this may run multiple times)\")\n",
        "\n",
        "\n",
        "\n",
        "\n",
        "print(\"Creating the first object:\")\n",
        "a = Singleton()  # This will create the object\n",
        "\n",
        "print(\"\\nCreating a second object:\")\n",
        "b = Singleton()  # This will return the same object\n",
        "\n",
        "# Compare both objects\n",
        "print(\"\\nAre 'a' and 'b' the same instance?\")\n",
        "print(\"Result:\", a is b)  # ➜ True (both refer to the same object)\n",
        "\n",
        "# Show memory addresses\n",
        "print(\"ID of a:\", id(a))\n",
        "print(\"ID of b:\", id(b))\n"
      ]
    },
    {
      "cell_type": "markdown",
      "metadata": {
        "id": "Gqogge0dAxME"
      },
      "source": [
        "---\n",
        "***9.3 Strategy Pattern***\n",
        "\n",
        "▶ is a Behavioral Design Pattern that defines a family of algorithms, encapsulates each one, and makes them interchangeable.\n",
        " - lets the algorithm vary independently from clients that use it\n",
        " - Follows Open/Closed Principle\n",
        "\n",
        "- **used When:**\n",
        "  - When you want to switch between different algorithms at runtime.\n",
        "  - Avoiding long **if/else** or **switch** statements.\n",
        "---"
      ]
    },
    {
      "cell_type": "code",
      "execution_count": null,
      "metadata": {
        "colab": {
          "base_uri": "https://localhost:8080/"
        },
        "id": "IyZmGfLCCmgu",
        "outputId": "3254bbe9-ee5e-434c-bcde-10d6b702719e"
      },
      "outputs": [
        {
          "name": "stdout",
          "output_type": "stream",
          "text": [
            "8\n",
            "15\n"
          ]
        }
      ],
      "source": [
        "class Add:\n",
        "    def execute(self, a, b):\n",
        "        return a + b\n",
        "\n",
        "class Multiply:\n",
        "    def execute(self, a, b):\n",
        "        return a * b\n",
        "\n",
        "class Calculator:\n",
        "    def __init__(self, strategy):\n",
        "        self.strategy = strategy\n",
        "\n",
        "    def calculate(self, a, b):\n",
        "        return self.strategy.execute(a, b)\n",
        "\n",
        "calc = Calculator(Add())\n",
        "print(calc.calculate(5, 3))\n",
        "\n",
        "calc.strategy = Multiply()\n",
        "print(calc.calculate(5, 3))"
      ]
    },
    {
      "cell_type": "markdown",
      "metadata": {
        "id": "HQsLhYZBC_Ch"
      },
      "source": [
        "---\n",
        "***9.4 Observer Pattern***\n",
        "\n"
      ]
    },
    {
      "cell_type": "markdown",
      "metadata": {
        "id": "OK7ld9hkgTZP"
      },
      "source": [
        "---\n",
        "## **10.  Summary of SOLID Principles in OOP**\n",
        "---\n",
        "\n",
        "▶ SOLID is a set of five object-oriented design principles that can help you write more maintainable, flexible, and scalable code based on well-designed, cleanly structured classes\n",
        "\n",
        "- RESOURCES: [link](https://realpython.com/solid-principles-python/)"
      ]
    },
    {
      "cell_type": "markdown",
      "metadata": {
        "id": "dWNyGmE0iGwr"
      },
      "source": [
        "---\n",
        "***10.1 Single-responsibility principle (SRP)***\n",
        "\n",
        "      A class should have only one reason to change.\n",
        "  \n",
        "  - If a class takes care of more than one task, then you should separate those tasks into separate classes.\n",
        "---"
      ]
    },
    {
      "cell_type": "code",
      "execution_count": null,
      "metadata": {
        "id": "SZw2hSrJi7zk"
      },
      "outputs": [],
      "source": [
        "# A) ❌ Bad Version (Violates SRP)\n",
        "# ==================================\n",
        "# file_manager_srp.py\n",
        "\n",
        "from pathlib import Path\n",
        "from zipfile import ZipFile\n",
        "\n",
        "class FileManager:\n",
        "    def __init__(self, filename):\n",
        "        self.path = Path(filename)\n",
        "\n",
        "    def read(self, encoding=\"utf-8\"):\n",
        "        return self.path.read_text(encoding)\n",
        "\n",
        "    def write(self, data, encoding=\"utf-8\"):\n",
        "        self.path.write_text(data, encoding)\n",
        "\n",
        "    def compress(self):\n",
        "        with ZipFile(self.path.with_suffix(\".zip\"), mode=\"w\") as archive:\n",
        "            archive.write(self.path)\n",
        "\n",
        "    def decompress(self):\n",
        "        with ZipFile(self.path.with_suffix(\".zip\"), mode=\"r\") as archive:\n",
        "            archive.extractall()"
      ]
    },
    {
      "cell_type": "code",
      "execution_count": null,
      "metadata": {
        "id": "MAwgogdMjKqj"
      },
      "outputs": [],
      "source": [
        "# ✅ Good Version (Follows SRP)\n",
        "# =================================\n",
        "# file_manager_srp.py\n",
        "\n",
        "from pathlib import Path\n",
        "from zipfile import ZipFile\n",
        "\n",
        "class FileManager:\n",
        "    def __init__(self, filename):\n",
        "        self.path = Path(filename)\n",
        "\n",
        "    def read(self, encoding=\"utf-8\"):\n",
        "        return self.path.read_text(encoding)\n",
        "\n",
        "    def write(self, data, encoding=\"utf-8\"):\n",
        "        self.path.write_text(data, encoding)\n",
        "\n",
        "class ZipFileManager:\n",
        "    def __init__(self, filename):\n",
        "        self.path = Path(filename)\n",
        "\n",
        "    def compress(self):\n",
        "        with ZipFile(self.path.with_suffix(\".zip\"), mode=\"w\") as archive:\n",
        "            archive.write(self.path)\n",
        "\n",
        "    def decompress(self):\n",
        "        with ZipFile(self.path.with_suffix(\".zip\"), mode=\"r\") as archive:\n",
        "            archive.extractall()"
      ]
    },
    {
      "cell_type": "markdown",
      "metadata": {
        "id": "wQUFwB7ojsLy"
      },
      "source": [
        "---\n",
        "***10.2 Open-Closed Principle (OCP)***\n",
        "\n",
        "      Software entities (classes, modules, functions, etc.) should be open for extension, but closed for modification.\n",
        "\n",
        "- Open For -> Extension\n",
        "- Closed For -> Modification\n",
        "\n",
        "This means you should be able to add new functionality without altering existing, working code.\n",
        "___\n"
      ]
    },
    {
      "cell_type": "code",
      "execution_count": null,
      "metadata": {
        "id": "t9JrIIehkd_6"
      },
      "outputs": [],
      "source": [
        "# A) ❌ Bad Version (Violates OCP)\n",
        "# ==================================\n",
        "\n",
        "from math import pi\n",
        "\n",
        "class Shape:\n",
        "    def __init__(self, shape_type, **kwargs):\n",
        "        self.shape_type = shape_type\n",
        "        if self.shape_type == \"rectangle\":\n",
        "            self.width = kwargs[\"width\"]\n",
        "            self.height = kwargs[\"height\"]\n",
        "        elif self.shape_type == \"circle\":\n",
        "            self.radius = kwargs[\"radius\"]\n",
        "\n",
        "    def calculate_area(self):\n",
        "        if self.shape_type == \"rectangle\":\n",
        "            return self.width * self.height\n",
        "        elif self.shape_type == \"circle\":\n",
        "            return pi * self.radius**2\n",
        "\n",
        "\n",
        "# imagine that you need to add new shape like (square)\n",
        "# -> you have to modify the internal code and add another (elif)"
      ]
    },
    {
      "cell_type": "code",
      "execution_count": null,
      "metadata": {
        "id": "vHLIYbpvlB4g"
      },
      "outputs": [],
      "source": [
        "# B) ✅ Good Version (Follows OCP)\n",
        "# =================================\n",
        "\n",
        "from abc import ABC, abstractmethod\n",
        "from math import pi\n",
        "\n",
        "class Shape(ABC):\n",
        "    def __init__(self, shape_type):\n",
        "        self.shape_type = shape_type\n",
        "\n",
        "    @abstractmethod\n",
        "    def calculate_area(self):\n",
        "        pass\n",
        "\n",
        "class Circle(Shape):\n",
        "    def __init__(self, radius):\n",
        "        super().__init__(\"circle\")\n",
        "        self.radius = radius\n",
        "\n",
        "    def calculate_area(self):\n",
        "        return pi * self.radius**2\n",
        "\n",
        "class Rectangle(Shape):\n",
        "    def __init__(self, width, height):\n",
        "        super().__init__(\"rectangle\")\n",
        "        self.width = width\n",
        "        self.height = height\n",
        "\n",
        "    def calculate_area(self):\n",
        "        return self.width * self.height\n",
        "\n",
        "class Square(Shape):\n",
        "    def __init__(self, side):\n",
        "        super().__init__(\"square\")\n",
        "        self.side = side\n",
        "\n",
        "    def calculate_area(self):\n",
        "        return self.side**2"
      ]
    },
    {
      "cell_type": "markdown",
      "metadata": {
        "id": "cfduwsFIl3gp"
      },
      "source": [
        "---\n",
        "***10.3 Liskov Substitution Principle (LSP)***\n",
        "\n",
        "      Subtypes must be substitutable for their base types.\n",
        " - if a program works with a base class, it should work equally well when a derived class is substituted in its place, without knowing the substitution has happened.\n",
        " ___"
      ]
    },
    {
      "cell_type": "code",
      "execution_count": null,
      "metadata": {
        "id": "C62xFH08nDys"
      },
      "outputs": [],
      "source": [
        "# A) ❌ Bad Version (Violates LSP)\n",
        "# ==================================\n",
        "\n",
        "class Bird:\n",
        "    def fly(self):\n",
        "        print(\"Flying\")\n",
        "\n",
        "class Ostrich(Bird):  # Ostrich can't fly!\n",
        "    def fly(self):\n",
        "        raise Exception(\"Can't fly!\")\n",
        "\n",
        "# Breaks LSP - can't substitute Ostrich for Bird"
      ]
    },
    {
      "cell_type": "code",
      "execution_count": null,
      "metadata": {
        "id": "-TnadbcpnhwP"
      },
      "outputs": [],
      "source": [
        "# B) ✅ Good Version (Follows LSP)\n",
        "# ===============================\n",
        "\n",
        "class Bird:\n",
        "    pass\n",
        "\n",
        "class FlyingBird(Bird):\n",
        "    def fly(self):\n",
        "        print(\"Flying\")\n",
        "\n",
        "class Ostrich(Bird):  # No fly method\n",
        "    def run(self):\n",
        "        print(\"Running\")"
      ]
    },
    {
      "cell_type": "markdown",
      "metadata": {
        "id": "9UeZQRCvoJP0"
      },
      "source": [
        "---\n",
        "***10.4 Interface Segregation Principle (ISP)***\n",
        "\n",
        "      Clients should not be forced to depend upon methods that they do not use.\n",
        "      Interfaces belong to clients, not to hierarchies.\n",
        "\n",
        "  - this mean that rather than one large interface, it's better to have many small, specific interfaces.\n",
        "---"
      ]
    },
    {
      "cell_type": "code",
      "execution_count": null,
      "metadata": {
        "id": "KVRwFhX8oF-3"
      },
      "outputs": [],
      "source": [
        "# A) ❌ Bad Version (Violates ISP)\n",
        "# ==================================\n",
        "\n",
        "from abc import ABC, abstractmethod\n",
        "\n",
        "class Printer(ABC):\n",
        "    @abstractmethod\n",
        "    def print(self, document):\n",
        "        pass\n",
        "\n",
        "    @abstractmethod\n",
        "    def fax(self, document):\n",
        "        pass\n",
        "\n",
        "    @abstractmethod\n",
        "    def scan(self, document):\n",
        "        pass\n",
        "\n",
        "class OldPrinter(Printer):\n",
        "    def print(self, document):\n",
        "        print(f\"Printing {document} in black and white...\")\n",
        "\n",
        "    def fax(self, document):\n",
        "        raise NotImplementedError(\"Fax functionality not supported in Old Printer\")\n",
        "\n",
        "    def scan(self, document):\n",
        "        raise NotImplementedError(\"Scan functionality not supported in Old Printer\")\n",
        "\n",
        "class ModernPrinter(Printer):\n",
        "    def print(self, document):\n",
        "        print(f\"Printing {document} in color...\")\n",
        "\n",
        "    def fax(self, document):\n",
        "        print(f\"Faxing {document}...\")\n",
        "\n",
        "    def scan(self, document):\n",
        "        print(f\"Scanning {document}...\")\n",
        "\n",
        "## it forces OldPrinter to expose an interface from Base Class that the class (OldPrinter) doesn’t implement or need."
      ]
    },
    {
      "cell_type": "code",
      "execution_count": null,
      "metadata": {
        "id": "LX_RGJ_Xp1qI"
      },
      "outputs": [],
      "source": [
        "# B) ✅ Good Version (Follows ISP)\n",
        "# ===============================\n",
        "\n",
        "from abc import ABC, abstractmethod\n",
        "\n",
        "class Printer(ABC):\n",
        "    @abstractmethod\n",
        "    def print(self, document):\n",
        "        pass\n",
        "\n",
        "class Fax(ABC):\n",
        "    @abstractmethod\n",
        "    def fax(self, document):\n",
        "        pass\n",
        "\n",
        "class Scanner(ABC):\n",
        "    @abstractmethod\n",
        "    def scan(self, document):\n",
        "        pass\n",
        "\n",
        "class OldPrinter(Printer):\n",
        "    def print(self, document):\n",
        "        print(f\"Printing {document} in black and white...\")\n",
        "\n",
        "class NewPrinter(Printer, Fax, Scanner):\n",
        "    def print(self, document):\n",
        "        print(f\"Printing {document} in color...\")\n",
        "\n",
        "    def fax(self, document):\n",
        "        print(f\"Faxing {document}...\")\n",
        "\n",
        "    def scan(self, document):\n",
        "        print(f\"Scanning {document}...\")"
      ]
    },
    {
      "cell_type": "markdown",
      "metadata": {
        "id": "kzqPJhSNqKaP"
      },
      "source": [
        "---\n",
        "***10.5 Dependency Inversion Principle (DIP)***\n",
        "\n",
        "      1- High-level modules should not depend on low-level modules. Both should depend on abstractions.\n",
        "\n",
        "      2- Abstractions should not depend on details. Details should depend on abstractions.\n",
        "---"
      ]
    },
    {
      "cell_type": "code",
      "execution_count": null,
      "metadata": {
        "id": "E7BBiM1CrvGb"
      },
      "outputs": [],
      "source": [
        "# A) ❌ Bad Version (Violates DIP)\n",
        "# ==================================\n",
        "\n",
        "class FrontEnd:\n",
        "    def __init__(self, back_end): # tightly coupled to a specific class\n",
        "        self.back_end = back_end\n",
        "\n",
        "    def display_data(self):\n",
        "        data = self.back_end.get_data_from_database()\n",
        "        print(\"Display data:\", data)\n",
        "\n",
        "class BackEnd:\n",
        "    def get_data_from_database(self):\n",
        "        return \"Data from the database\"\n",
        "\n",
        "# FrontEnd directly depends on BackEnd (a concrete class)\n",
        "# => You cannot replace the data source (switch to API or CSV) without modifying FrontEnd."
      ]
    },
    {
      "cell_type": "code",
      "execution_count": null,
      "metadata": {
        "id": "qxtEmCehqJpf"
      },
      "outputs": [],
      "source": [
        "# B) ✅ Good Version (Follows DIP)\n",
        "# ===============================\n",
        "\n",
        "from abc import ABC, abstractmethod\n",
        "\n",
        "class FrontEnd:\n",
        "    def __init__(self, data_source):  # depends on abstraction\n",
        "        self.data_source = data_source\n",
        "\n",
        "    def display_data(self):\n",
        "        data = self.data_source.get_data()\n",
        "        print(\"Display data:\", data)\n",
        "\n",
        "# Abstract Interface\n",
        "class DataSource(ABC):\n",
        "    @abstractmethod\n",
        "    def get_data(self):\n",
        "        pass\n",
        "\n",
        "# Concrete Implementations\n",
        "class Database(DataSource):\n",
        "    def get_data(self):\n",
        "        return \"Data from the database\"\n",
        "\n",
        "class API(DataSource):\n",
        "    def get_data(self):\n",
        "        return \"Data from the API\""
      ]
    }
  ],
  "metadata": {
    "colab": {
      "provenance": []
    },
    "kernelspec": {
      "display_name": "Python 3",
      "name": "python3"
    },
    "language_info": {
      "name": "python"
    }
  },
  "nbformat": 4,
  "nbformat_minor": 0
}
